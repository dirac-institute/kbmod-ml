{
 "cells": [
  {
   "cell_type": "code",
   "execution_count": null,
   "metadata": {},
   "outputs": [],
   "source": [
    "# Create a fibad instance for use in the rest of the notebook\n",
    "from fibad import Fibad\n",
    "\n",
    "fibad_instance = Fibad(config_file=\"./user_config.toml\")"
   ]
  },
  {
   "cell_type": "code",
   "execution_count": null,
   "metadata": {},
   "outputs": [],
   "source": [
    "# Set the number of epochs to run over so we can test more easily\n",
    "fibad_instance.config[\"train\"][\"epochs\"] = 2"
   ]
  },
  {
   "cell_type": "code",
   "execution_count": null,
   "metadata": {},
   "outputs": [],
   "source": [
    "# Specify output weights file name and train the model (CNN is the default)\n",
    "fibad_instance.config[\"train\"][\"weights_filepath\"] = \"cnn_weights.pth\"\n",
    "fibad_instance.train()"
   ]
  },
  {
   "cell_type": "code",
   "execution_count": null,
   "metadata": {},
   "outputs": [],
   "source": [
    "# Start and run tensorboard\n",
    "%reload_ext tensorboard\n",
    "%tensorboard --logdir ./results"
   ]
  },
  {
   "cell_type": "code",
   "execution_count": null,
   "metadata": {},
   "outputs": [],
   "source": [
    "# Run inference using the previously trained model\n",
    "# fibad_instance.config['infer']['model_weights_file'] = '<update this to be the model path>'\n",
    "fibad_instance.infer()"
   ]
  },
  {
   "cell_type": "code",
   "execution_count": null,
   "metadata": {},
   "outputs": [],
   "source": [
    "# Pull all the results of inference into a single array\n",
    "import numpy as np\n",
    "import glob\n",
    "\n",
    "# Load all the files in the results directory and load the values into a single array\n",
    "results = glob.glob(\"/home/drew/code/kbmod-ml/results/20250116-123512-infer/*.npy\")\n",
    "\n",
    "all_results = []\n",
    "for f in results:\n",
    "    np_array = np.load(f)\n",
    "    all_results.append(np_array[0])"
   ]
  },
  {
   "cell_type": "code",
   "execution_count": null,
   "metadata": {},
   "outputs": [],
   "source": [
    "# !pip install matplotlib\n",
    "# Plot the results of the inference\n",
    "import matplotlib.pyplot as plt\n",
    "\n",
    "plt.hist(all_results, bins=3)"
   ]
  },
  {
   "cell_type": "markdown",
   "metadata": {},
   "source": [
    "## Below here isn't working yet - something is wrong with RESNET50"
   ]
  },
  {
   "cell_type": "code",
   "execution_count": null,
   "metadata": {},
   "outputs": [],
   "source": [
    "from fibad import Fibad\n",
    "\n",
    "fibad_instance = Fibad(config_file=\"./user_config.toml\")\n",
    "\n",
    "# Change the model to the resnet50 model and attempt to train\n",
    "fibad_instance.config[\"model\"][\"name\"] = \"kbmod_ml.models.resnet50.RESNET50\"\n",
    "fibad_instance.config[\"train\"][\"epochs\"] = 2"
   ]
  },
  {
   "cell_type": "code",
   "execution_count": null,
   "metadata": {},
   "outputs": [],
   "source": [
    "fibad_instance.train()"
   ]
  },
  {
   "cell_type": "code",
   "execution_count": null,
   "metadata": {},
   "outputs": [],
   "source": [
    "# Load an instance of the dataset\n",
    "from kbmod_ml.data_sets.kbmod_stamps import KbmodStamps\n",
    "\n",
    "ds = KbmodStamps(config=fibad_instance.config, split=\"train\")"
   ]
  },
  {
   "cell_type": "code",
   "execution_count": null,
   "metadata": {},
   "outputs": [],
   "source": [
    "# create an instance of the resnet50 model and attempt to pass a single data sample through it.\n",
    "from kbmod_ml.models.resnet50 import RESNET50\n",
    "\n",
    "m = RESNET50(config=fibad_instance.config, shape=(2, 21, 21))\n",
    "input_tensor = ds[0][0].unsqueeze(0)\n",
    "print(input_tensor.shape)\n",
    "\n",
    "output_tensor = m(ds[0][0].unsqueeze(0))\n",
    "print(output_tensor)"
   ]
  }
 ],
 "metadata": {
  "kernelspec": {
   "display_name": "kbmod-ml",
   "language": "python",
   "name": "python3"
  },
  "language_info": {
   "codemirror_mode": {
    "name": "ipython",
    "version": 3
   },
   "file_extension": ".py",
   "mimetype": "text/x-python",
   "name": "python",
   "nbconvert_exporter": "python",
   "pygments_lexer": "ipython3",
   "version": "3.11.10"
  }
 },
 "nbformat": 4,
 "nbformat_minor": 2
}
